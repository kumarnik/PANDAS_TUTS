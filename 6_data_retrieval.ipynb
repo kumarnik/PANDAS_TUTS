{
 "cells": [
  {
   "cell_type": "markdown",
   "metadata": {},
   "source": [
    "### loc and iloc :"
   ]
  },
  {
   "cell_type": "markdown",
   "metadata": {},
   "source": [
    "#### LOC"
   ]
  },
  {
   "cell_type": "markdown",
   "metadata": {},
   "source": [
    "#### Access a group of rows or columns by label(s) or bolean array."
   ]
  },
  {
   "cell_type": "code",
   "execution_count": 1,
   "metadata": {},
   "outputs": [],
   "source": [
    "import pandas as pd"
   ]
  },
  {
   "cell_type": "code",
   "execution_count": 2,
   "metadata": {},
   "outputs": [],
   "source": [
    "df=pd.read_csv(\"C:\\\\Users\\\\nikhil\\\\Desktop\\\\datasets\\\\export.csv\")"
   ]
  },
  {
   "cell_type": "code",
   "execution_count": 3,
   "metadata": {},
   "outputs": [
    {
     "data": {
      "text/html": [
       "<div>\n",
       "<style scoped>\n",
       "    .dataframe tbody tr th:only-of-type {\n",
       "        vertical-align: middle;\n",
       "    }\n",
       "\n",
       "    .dataframe tbody tr th {\n",
       "        vertical-align: top;\n",
       "    }\n",
       "\n",
       "    .dataframe thead th {\n",
       "        text-align: right;\n",
       "    }\n",
       "</style>\n",
       "<table border=\"1\" class=\"dataframe\">\n",
       "  <thead>\n",
       "    <tr style=\"text-align: right;\">\n",
       "      <th></th>\n",
       "      <th>ID</th>\n",
       "      <th>NAME</th>\n",
       "      <th>COMPANIES</th>\n",
       "      <th>INCEPTION</th>\n",
       "      <th>REVENUE</th>\n",
       "      <th>EXPENSES</th>\n",
       "      <th>PROFIT</th>\n",
       "      <th>GROWTH</th>\n",
       "    </tr>\n",
       "  </thead>\n",
       "  <tbody>\n",
       "    <tr>\n",
       "      <th>0</th>\n",
       "      <td>1</td>\n",
       "      <td>leonardo</td>\n",
       "      <td>IT</td>\n",
       "      <td>2009</td>\n",
       "      <td>$10,234,567</td>\n",
       "      <td>6,678,456 Dollars</td>\n",
       "      <td>5647547</td>\n",
       "      <td>30</td>\n",
       "    </tr>\n",
       "    <tr>\n",
       "      <th>1</th>\n",
       "      <td>2</td>\n",
       "      <td>orlando</td>\n",
       "      <td>HEALTH</td>\n",
       "      <td>2019</td>\n",
       "      <td>$9,234967</td>\n",
       "      <td>6,638,456 Dollars</td>\n",
       "      <td>5647547</td>\n",
       "      <td>25</td>\n",
       "    </tr>\n",
       "    <tr>\n",
       "      <th>2</th>\n",
       "      <td>3</td>\n",
       "      <td>finn</td>\n",
       "      <td>IT</td>\n",
       "      <td>2010</td>\n",
       "      <td>$12,238,200</td>\n",
       "      <td>6,673456 Dollars</td>\n",
       "      <td>5647547</td>\n",
       "      <td>25</td>\n",
       "    </tr>\n",
       "    <tr>\n",
       "      <th>3</th>\n",
       "      <td>4</td>\n",
       "      <td>philander</td>\n",
       "      <td>FINANCE</td>\n",
       "      <td>2009</td>\n",
       "      <td>$23,264,109</td>\n",
       "      <td>5,678,456 Dollars</td>\n",
       "      <td>93483</td>\n",
       "      <td>0</td>\n",
       "    </tr>\n",
       "    <tr>\n",
       "      <th>4</th>\n",
       "      <td>5</td>\n",
       "      <td>jacob</td>\n",
       "      <td>FINANCE</td>\n",
       "      <td>2008</td>\n",
       "      <td>$5,212,989</td>\n",
       "      <td>4,678,456 Dollars</td>\n",
       "      <td>34266</td>\n",
       "      <td>20</td>\n",
       "    </tr>\n",
       "    <tr>\n",
       "      <th>5</th>\n",
       "      <td>6</td>\n",
       "      <td>mania</td>\n",
       "      <td>FINANCE</td>\n",
       "      <td>2016</td>\n",
       "      <td>$7345567</td>\n",
       "      <td>6788 Dollars</td>\n",
       "      <td>7923</td>\n",
       "      <td>23</td>\n",
       "    </tr>\n",
       "    <tr>\n",
       "      <th>6</th>\n",
       "      <td>7</td>\n",
       "      <td>larry</td>\n",
       "      <td>HEALTH</td>\n",
       "      <td>2015</td>\n",
       "      <td>$3455</td>\n",
       "      <td>4521 dollars</td>\n",
       "      <td>0</td>\n",
       "      <td>9</td>\n",
       "    </tr>\n",
       "    <tr>\n",
       "      <th>7</th>\n",
       "      <td>8</td>\n",
       "      <td>alexander</td>\n",
       "      <td>GOVT</td>\n",
       "      <td>2017</td>\n",
       "      <td>$1389,567</td>\n",
       "      <td>38929 dollars</td>\n",
       "      <td>43222</td>\n",
       "      <td>25</td>\n",
       "    </tr>\n",
       "    <tr>\n",
       "      <th>8</th>\n",
       "      <td>9</td>\n",
       "      <td>harry</td>\n",
       "      <td>IT</td>\n",
       "      <td>2017</td>\n",
       "      <td>$176,567</td>\n",
       "      <td>238282 dollars</td>\n",
       "      <td>7767</td>\n",
       "      <td>36</td>\n",
       "    </tr>\n",
       "    <tr>\n",
       "      <th>9</th>\n",
       "      <td>10</td>\n",
       "      <td>milano</td>\n",
       "      <td>FINANCE</td>\n",
       "      <td>2016</td>\n",
       "      <td>$9542007</td>\n",
       "      <td>38888 dollars</td>\n",
       "      <td>12867</td>\n",
       "      <td>22</td>\n",
       "    </tr>\n",
       "  </tbody>\n",
       "</table>\n",
       "</div>"
      ],
      "text/plain": [
       "   ID       NAME COMPANIES  INCEPTION      REVENUE           EXPENSES  \\\n",
       "0   1   leonardo        IT       2009  $10,234,567  6,678,456 Dollars   \n",
       "1   2    orlando    HEALTH       2019    $9,234967  6,638,456 Dollars   \n",
       "2   3       finn        IT       2010  $12,238,200   6,673456 Dollars   \n",
       "3   4  philander   FINANCE       2009  $23,264,109  5,678,456 Dollars   \n",
       "4   5      jacob   FINANCE       2008   $5,212,989  4,678,456 Dollars   \n",
       "5   6      mania   FINANCE       2016     $7345567       6788 Dollars   \n",
       "6   7      larry    HEALTH       2015        $3455       4521 dollars   \n",
       "7   8  alexander      GOVT       2017    $1389,567      38929 dollars   \n",
       "8   9      harry        IT       2017     $176,567     238282 dollars   \n",
       "9  10     milano   FINANCE       2016     $9542007      38888 dollars   \n",
       "\n",
       "    PROFIT  GROWTH  \n",
       "0  5647547      30  \n",
       "1  5647547      25  \n",
       "2  5647547      25  \n",
       "3    93483       0  \n",
       "4    34266      20  \n",
       "5     7923      23  \n",
       "6        0       9  \n",
       "7    43222      25  \n",
       "8     7767      36  \n",
       "9    12867      22  "
      ]
     },
     "execution_count": 3,
     "metadata": {},
     "output_type": "execute_result"
    }
   ],
   "source": [
    "df"
   ]
  },
  {
   "cell_type": "code",
   "execution_count": 4,
   "metadata": {},
   "outputs": [
    {
     "data": {
      "text/plain": [
       "ID                           1\n",
       "NAME                  leonardo\n",
       "COMPANIES                   IT\n",
       "INCEPTION                 2009\n",
       "REVENUE            $10,234,567\n",
       "EXPENSES     6,678,456 Dollars\n",
       "PROFIT                 5647547\n",
       "GROWTH                      30\n",
       "Name: 0, dtype: object"
      ]
     },
     "execution_count": 4,
     "metadata": {},
     "output_type": "execute_result"
    }
   ],
   "source": [
    "df.loc[0]"
   ]
  },
  {
   "cell_type": "code",
   "execution_count": 5,
   "metadata": {},
   "outputs": [
    {
     "data": {
      "text/html": [
       "<div>\n",
       "<style scoped>\n",
       "    .dataframe tbody tr th:only-of-type {\n",
       "        vertical-align: middle;\n",
       "    }\n",
       "\n",
       "    .dataframe tbody tr th {\n",
       "        vertical-align: top;\n",
       "    }\n",
       "\n",
       "    .dataframe thead th {\n",
       "        text-align: right;\n",
       "    }\n",
       "</style>\n",
       "<table border=\"1\" class=\"dataframe\">\n",
       "  <thead>\n",
       "    <tr style=\"text-align: right;\">\n",
       "      <th></th>\n",
       "      <th>ID</th>\n",
       "      <th>NAME</th>\n",
       "      <th>COMPANIES</th>\n",
       "      <th>INCEPTION</th>\n",
       "      <th>REVENUE</th>\n",
       "      <th>EXPENSES</th>\n",
       "      <th>PROFIT</th>\n",
       "      <th>GROWTH</th>\n",
       "    </tr>\n",
       "  </thead>\n",
       "  <tbody>\n",
       "    <tr>\n",
       "      <th>0</th>\n",
       "      <td>1</td>\n",
       "      <td>leonardo</td>\n",
       "      <td>IT</td>\n",
       "      <td>2009</td>\n",
       "      <td>$10,234,567</td>\n",
       "      <td>6,678,456 Dollars</td>\n",
       "      <td>5647547</td>\n",
       "      <td>30</td>\n",
       "    </tr>\n",
       "  </tbody>\n",
       "</table>\n",
       "</div>"
      ],
      "text/plain": [
       "   ID      NAME COMPANIES  INCEPTION      REVENUE           EXPENSES   PROFIT  \\\n",
       "0   1  leonardo        IT       2009  $10,234,567  6,678,456 Dollars  5647547   \n",
       "\n",
       "   GROWTH  \n",
       "0      30  "
      ]
     },
     "execution_count": 5,
     "metadata": {},
     "output_type": "execute_result"
    }
   ],
   "source": [
    "df.loc[[0]]"
   ]
  },
  {
   "cell_type": "code",
   "execution_count": 6,
   "metadata": {},
   "outputs": [
    {
     "data": {
      "text/plain": [
       "ID                           2\n",
       "NAME                   orlando\n",
       "COMPANIES               HEALTH\n",
       "INCEPTION                 2019\n",
       "REVENUE              $9,234967\n",
       "EXPENSES     6,638,456 Dollars\n",
       "PROFIT                 5647547\n",
       "GROWTH                      25\n",
       "Name: 1, dtype: object"
      ]
     },
     "execution_count": 6,
     "metadata": {},
     "output_type": "execute_result"
    }
   ],
   "source": [
    "df.loc[1]"
   ]
  },
  {
   "cell_type": "code",
   "execution_count": 7,
   "metadata": {},
   "outputs": [
    {
     "data": {
      "text/html": [
       "<div>\n",
       "<style scoped>\n",
       "    .dataframe tbody tr th:only-of-type {\n",
       "        vertical-align: middle;\n",
       "    }\n",
       "\n",
       "    .dataframe tbody tr th {\n",
       "        vertical-align: top;\n",
       "    }\n",
       "\n",
       "    .dataframe thead th {\n",
       "        text-align: right;\n",
       "    }\n",
       "</style>\n",
       "<table border=\"1\" class=\"dataframe\">\n",
       "  <thead>\n",
       "    <tr style=\"text-align: right;\">\n",
       "      <th></th>\n",
       "      <th>ID</th>\n",
       "      <th>NAME</th>\n",
       "      <th>COMPANIES</th>\n",
       "      <th>INCEPTION</th>\n",
       "      <th>REVENUE</th>\n",
       "      <th>EXPENSES</th>\n",
       "      <th>PROFIT</th>\n",
       "      <th>GROWTH</th>\n",
       "    </tr>\n",
       "  </thead>\n",
       "  <tbody>\n",
       "    <tr>\n",
       "      <th>0</th>\n",
       "      <td>1</td>\n",
       "      <td>leonardo</td>\n",
       "      <td>IT</td>\n",
       "      <td>2009</td>\n",
       "      <td>$10,234,567</td>\n",
       "      <td>6,678,456 Dollars</td>\n",
       "      <td>5647547</td>\n",
       "      <td>30</td>\n",
       "    </tr>\n",
       "    <tr>\n",
       "      <th>1</th>\n",
       "      <td>2</td>\n",
       "      <td>orlando</td>\n",
       "      <td>HEALTH</td>\n",
       "      <td>2019</td>\n",
       "      <td>$9,234967</td>\n",
       "      <td>6,638,456 Dollars</td>\n",
       "      <td>5647547</td>\n",
       "      <td>25</td>\n",
       "    </tr>\n",
       "    <tr>\n",
       "      <th>2</th>\n",
       "      <td>3</td>\n",
       "      <td>finn</td>\n",
       "      <td>IT</td>\n",
       "      <td>2010</td>\n",
       "      <td>$12,238,200</td>\n",
       "      <td>6,673456 Dollars</td>\n",
       "      <td>5647547</td>\n",
       "      <td>25</td>\n",
       "    </tr>\n",
       "    <tr>\n",
       "      <th>3</th>\n",
       "      <td>4</td>\n",
       "      <td>philander</td>\n",
       "      <td>FINANCE</td>\n",
       "      <td>2009</td>\n",
       "      <td>$23,264,109</td>\n",
       "      <td>5,678,456 Dollars</td>\n",
       "      <td>93483</td>\n",
       "      <td>0</td>\n",
       "    </tr>\n",
       "  </tbody>\n",
       "</table>\n",
       "</div>"
      ],
      "text/plain": [
       "   ID       NAME COMPANIES  INCEPTION      REVENUE           EXPENSES  \\\n",
       "0   1   leonardo        IT       2009  $10,234,567  6,678,456 Dollars   \n",
       "1   2    orlando    HEALTH       2019    $9,234967  6,638,456 Dollars   \n",
       "2   3       finn        IT       2010  $12,238,200   6,673456 Dollars   \n",
       "3   4  philander   FINANCE       2009  $23,264,109  5,678,456 Dollars   \n",
       "\n",
       "    PROFIT  GROWTH  \n",
       "0  5647547      30  \n",
       "1  5647547      25  \n",
       "2  5647547      25  \n",
       "3    93483       0  "
      ]
     },
     "execution_count": 7,
     "metadata": {},
     "output_type": "execute_result"
    }
   ],
   "source": [
    "df.loc[0:3]"
   ]
  },
  {
   "cell_type": "code",
   "execution_count": 8,
   "metadata": {},
   "outputs": [
    {
     "data": {
      "text/html": [
       "<div>\n",
       "<style scoped>\n",
       "    .dataframe tbody tr th:only-of-type {\n",
       "        vertical-align: middle;\n",
       "    }\n",
       "\n",
       "    .dataframe tbody tr th {\n",
       "        vertical-align: top;\n",
       "    }\n",
       "\n",
       "    .dataframe thead th {\n",
       "        text-align: right;\n",
       "    }\n",
       "</style>\n",
       "<table border=\"1\" class=\"dataframe\">\n",
       "  <thead>\n",
       "    <tr style=\"text-align: right;\">\n",
       "      <th></th>\n",
       "      <th>ID</th>\n",
       "      <th>NAME</th>\n",
       "      <th>COMPANIES</th>\n",
       "      <th>INCEPTION</th>\n",
       "      <th>REVENUE</th>\n",
       "      <th>EXPENSES</th>\n",
       "      <th>PROFIT</th>\n",
       "      <th>GROWTH</th>\n",
       "    </tr>\n",
       "  </thead>\n",
       "  <tbody>\n",
       "    <tr>\n",
       "      <th>2</th>\n",
       "      <td>3</td>\n",
       "      <td>finn</td>\n",
       "      <td>IT</td>\n",
       "      <td>2010</td>\n",
       "      <td>$12,238,200</td>\n",
       "      <td>6,673456 Dollars</td>\n",
       "      <td>5647547</td>\n",
       "      <td>25</td>\n",
       "    </tr>\n",
       "    <tr>\n",
       "      <th>4</th>\n",
       "      <td>5</td>\n",
       "      <td>jacob</td>\n",
       "      <td>FINANCE</td>\n",
       "      <td>2008</td>\n",
       "      <td>$5,212,989</td>\n",
       "      <td>4,678,456 Dollars</td>\n",
       "      <td>34266</td>\n",
       "      <td>20</td>\n",
       "    </tr>\n",
       "    <tr>\n",
       "      <th>5</th>\n",
       "      <td>6</td>\n",
       "      <td>mania</td>\n",
       "      <td>FINANCE</td>\n",
       "      <td>2016</td>\n",
       "      <td>$7345567</td>\n",
       "      <td>6788 Dollars</td>\n",
       "      <td>7923</td>\n",
       "      <td>23</td>\n",
       "    </tr>\n",
       "  </tbody>\n",
       "</table>\n",
       "</div>"
      ],
      "text/plain": [
       "   ID   NAME COMPANIES  INCEPTION      REVENUE           EXPENSES   PROFIT  \\\n",
       "2   3   finn        IT       2010  $12,238,200   6,673456 Dollars  5647547   \n",
       "4   5  jacob   FINANCE       2008   $5,212,989  4,678,456 Dollars    34266   \n",
       "5   6  mania   FINANCE       2016     $7345567       6788 Dollars     7923   \n",
       "\n",
       "   GROWTH  \n",
       "2      25  \n",
       "4      20  \n",
       "5      23  "
      ]
     },
     "execution_count": 8,
     "metadata": {},
     "output_type": "execute_result"
    }
   ],
   "source": [
    "df.loc[[2,4,5]]"
   ]
  },
  {
   "cell_type": "code",
   "execution_count": 9,
   "metadata": {},
   "outputs": [
    {
     "data": {
      "text/plain": [
       "'IT'"
      ]
     },
     "execution_count": 9,
     "metadata": {},
     "output_type": "execute_result"
    }
   ],
   "source": [
    "df.loc[2,'COMPANIES']"
   ]
  },
  {
   "cell_type": "code",
   "execution_count": 10,
   "metadata": {},
   "outputs": [
    {
     "data": {
      "text/plain": [
       "2         IT\n",
       "3    FINANCE\n",
       "4    FINANCE\n",
       "Name: COMPANIES, dtype: object"
      ]
     },
     "execution_count": 10,
     "metadata": {},
     "output_type": "execute_result"
    }
   ],
   "source": [
    "df.loc[[2,3,4],\"COMPANIES\"]"
   ]
  },
  {
   "cell_type": "code",
   "execution_count": 11,
   "metadata": {},
   "outputs": [
    {
     "data": {
      "text/html": [
       "<div>\n",
       "<style scoped>\n",
       "    .dataframe tbody tr th:only-of-type {\n",
       "        vertical-align: middle;\n",
       "    }\n",
       "\n",
       "    .dataframe tbody tr th {\n",
       "        vertical-align: top;\n",
       "    }\n",
       "\n",
       "    .dataframe thead th {\n",
       "        text-align: right;\n",
       "    }\n",
       "</style>\n",
       "<table border=\"1\" class=\"dataframe\">\n",
       "  <thead>\n",
       "    <tr style=\"text-align: right;\">\n",
       "      <th></th>\n",
       "      <th>COMPANIES</th>\n",
       "      <th>GROWTH</th>\n",
       "    </tr>\n",
       "  </thead>\n",
       "  <tbody>\n",
       "    <tr>\n",
       "      <th>2</th>\n",
       "      <td>IT</td>\n",
       "      <td>25</td>\n",
       "    </tr>\n",
       "    <tr>\n",
       "      <th>3</th>\n",
       "      <td>FINANCE</td>\n",
       "      <td>0</td>\n",
       "    </tr>\n",
       "    <tr>\n",
       "      <th>4</th>\n",
       "      <td>FINANCE</td>\n",
       "      <td>20</td>\n",
       "    </tr>\n",
       "    <tr>\n",
       "      <th>5</th>\n",
       "      <td>FINANCE</td>\n",
       "      <td>23</td>\n",
       "    </tr>\n",
       "  </tbody>\n",
       "</table>\n",
       "</div>"
      ],
      "text/plain": [
       "  COMPANIES  GROWTH\n",
       "2        IT      25\n",
       "3   FINANCE       0\n",
       "4   FINANCE      20\n",
       "5   FINANCE      23"
      ]
     },
     "execution_count": 11,
     "metadata": {},
     "output_type": "execute_result"
    }
   ],
   "source": [
    "df.loc[[2,3,4,5],[\"COMPANIES\",\"GROWTH\"]]"
   ]
  },
  {
   "cell_type": "markdown",
   "metadata": {},
   "source": [
    "#### SLICING"
   ]
  },
  {
   "cell_type": "code",
   "execution_count": 12,
   "metadata": {},
   "outputs": [
    {
     "data": {
      "text/plain": [
       "2         IT\n",
       "3    FINANCE\n",
       "4    FINANCE\n",
       "5    FINANCE\n",
       "6     HEALTH\n",
       "Name: COMPANIES, dtype: object"
      ]
     },
     "execution_count": 12,
     "metadata": {},
     "output_type": "execute_result"
    }
   ],
   "source": [
    "df.loc[2:6,\"COMPANIES\"]"
   ]
  },
  {
   "cell_type": "code",
   "execution_count": 13,
   "metadata": {},
   "outputs": [
    {
     "data": {
      "text/html": [
       "<div>\n",
       "<style scoped>\n",
       "    .dataframe tbody tr th:only-of-type {\n",
       "        vertical-align: middle;\n",
       "    }\n",
       "\n",
       "    .dataframe tbody tr th {\n",
       "        vertical-align: top;\n",
       "    }\n",
       "\n",
       "    .dataframe thead th {\n",
       "        text-align: right;\n",
       "    }\n",
       "</style>\n",
       "<table border=\"1\" class=\"dataframe\">\n",
       "  <thead>\n",
       "    <tr style=\"text-align: right;\">\n",
       "      <th></th>\n",
       "      <th>COMPANIES</th>\n",
       "    </tr>\n",
       "  </thead>\n",
       "  <tbody>\n",
       "    <tr>\n",
       "      <th>2</th>\n",
       "      <td>IT</td>\n",
       "    </tr>\n",
       "    <tr>\n",
       "      <th>3</th>\n",
       "      <td>FINANCE</td>\n",
       "    </tr>\n",
       "    <tr>\n",
       "      <th>4</th>\n",
       "      <td>FINANCE</td>\n",
       "    </tr>\n",
       "  </tbody>\n",
       "</table>\n",
       "</div>"
      ],
      "text/plain": [
       "  COMPANIES\n",
       "2        IT\n",
       "3   FINANCE\n",
       "4   FINANCE"
      ]
     },
     "execution_count": 13,
     "metadata": {},
     "output_type": "execute_result"
    }
   ],
   "source": [
    "df.loc[2:4,[\"COMPANIES\"]]"
   ]
  },
  {
   "cell_type": "code",
   "execution_count": 14,
   "metadata": {},
   "outputs": [
    {
     "data": {
      "text/html": [
       "<div>\n",
       "<style scoped>\n",
       "    .dataframe tbody tr th:only-of-type {\n",
       "        vertical-align: middle;\n",
       "    }\n",
       "\n",
       "    .dataframe tbody tr th {\n",
       "        vertical-align: top;\n",
       "    }\n",
       "\n",
       "    .dataframe thead th {\n",
       "        text-align: right;\n",
       "    }\n",
       "</style>\n",
       "<table border=\"1\" class=\"dataframe\">\n",
       "  <thead>\n",
       "    <tr style=\"text-align: right;\">\n",
       "      <th></th>\n",
       "      <th>COMPANIES</th>\n",
       "      <th>GROWTH</th>\n",
       "      <th>REVENUE</th>\n",
       "    </tr>\n",
       "  </thead>\n",
       "  <tbody>\n",
       "    <tr>\n",
       "      <th>2</th>\n",
       "      <td>IT</td>\n",
       "      <td>25</td>\n",
       "      <td>$12,238,200</td>\n",
       "    </tr>\n",
       "    <tr>\n",
       "      <th>3</th>\n",
       "      <td>FINANCE</td>\n",
       "      <td>0</td>\n",
       "      <td>$23,264,109</td>\n",
       "    </tr>\n",
       "    <tr>\n",
       "      <th>4</th>\n",
       "      <td>FINANCE</td>\n",
       "      <td>20</td>\n",
       "      <td>$5,212,989</td>\n",
       "    </tr>\n",
       "  </tbody>\n",
       "</table>\n",
       "</div>"
      ],
      "text/plain": [
       "  COMPANIES  GROWTH      REVENUE\n",
       "2        IT      25  $12,238,200\n",
       "3   FINANCE       0  $23,264,109\n",
       "4   FINANCE      20   $5,212,989"
      ]
     },
     "execution_count": 14,
     "metadata": {},
     "output_type": "execute_result"
    }
   ],
   "source": [
    "df.loc[2:4,[\"COMPANIES\",\"GROWTH\",\"REVENUE\"]]"
   ]
  },
  {
   "cell_type": "code",
   "execution_count": 15,
   "metadata": {},
   "outputs": [
    {
     "data": {
      "text/html": [
       "<div>\n",
       "<style scoped>\n",
       "    .dataframe tbody tr th:only-of-type {\n",
       "        vertical-align: middle;\n",
       "    }\n",
       "\n",
       "    .dataframe tbody tr th {\n",
       "        vertical-align: top;\n",
       "    }\n",
       "\n",
       "    .dataframe thead th {\n",
       "        text-align: right;\n",
       "    }\n",
       "</style>\n",
       "<table border=\"1\" class=\"dataframe\">\n",
       "  <thead>\n",
       "    <tr style=\"text-align: right;\">\n",
       "      <th></th>\n",
       "      <th>ID</th>\n",
       "      <th>NAME</th>\n",
       "      <th>COMPANIES</th>\n",
       "      <th>INCEPTION</th>\n",
       "      <th>REVENUE</th>\n",
       "      <th>EXPENSES</th>\n",
       "      <th>PROFIT</th>\n",
       "      <th>GROWTH</th>\n",
       "    </tr>\n",
       "  </thead>\n",
       "  <tbody>\n",
       "    <tr>\n",
       "      <th>1</th>\n",
       "      <td>2</td>\n",
       "      <td>orlando</td>\n",
       "      <td>HEALTH</td>\n",
       "      <td>2019</td>\n",
       "      <td>$9,234967</td>\n",
       "      <td>6,638,456 Dollars</td>\n",
       "      <td>5647547</td>\n",
       "      <td>25</td>\n",
       "    </tr>\n",
       "  </tbody>\n",
       "</table>\n",
       "</div>"
      ],
      "text/plain": [
       "   ID     NAME COMPANIES  INCEPTION    REVENUE           EXPENSES   PROFIT  \\\n",
       "1   2  orlando    HEALTH       2019  $9,234967  6,638,456 Dollars  5647547   \n",
       "\n",
       "   GROWTH  \n",
       "1      25  "
      ]
     },
     "execution_count": 15,
     "metadata": {},
     "output_type": "execute_result"
    }
   ],
   "source": [
    "##Passing boolean array\n",
    "\n",
    "df.loc[[False,True]]"
   ]
  },
  {
   "cell_type": "code",
   "execution_count": 16,
   "metadata": {},
   "outputs": [
    {
     "data": {
      "text/html": [
       "<div>\n",
       "<style scoped>\n",
       "    .dataframe tbody tr th:only-of-type {\n",
       "        vertical-align: middle;\n",
       "    }\n",
       "\n",
       "    .dataframe tbody tr th {\n",
       "        vertical-align: top;\n",
       "    }\n",
       "\n",
       "    .dataframe thead th {\n",
       "        text-align: right;\n",
       "    }\n",
       "</style>\n",
       "<table border=\"1\" class=\"dataframe\">\n",
       "  <thead>\n",
       "    <tr style=\"text-align: right;\">\n",
       "      <th></th>\n",
       "      <th>ID</th>\n",
       "      <th>COMPANIES</th>\n",
       "      <th>GROWTH</th>\n",
       "    </tr>\n",
       "  </thead>\n",
       "  <tbody>\n",
       "    <tr>\n",
       "      <th>0</th>\n",
       "      <td>1</td>\n",
       "      <td>IT</td>\n",
       "      <td>30</td>\n",
       "    </tr>\n",
       "    <tr>\n",
       "      <th>2</th>\n",
       "      <td>3</td>\n",
       "      <td>IT</td>\n",
       "      <td>25</td>\n",
       "    </tr>\n",
       "    <tr>\n",
       "      <th>4</th>\n",
       "      <td>5</td>\n",
       "      <td>FINANCE</td>\n",
       "      <td>20</td>\n",
       "    </tr>\n",
       "  </tbody>\n",
       "</table>\n",
       "</div>"
      ],
      "text/plain": [
       "   ID COMPANIES  GROWTH\n",
       "0   1        IT      30\n",
       "2   3        IT      25\n",
       "4   5   FINANCE      20"
      ]
     },
     "execution_count": 16,
     "metadata": {},
     "output_type": "execute_result"
    }
   ],
   "source": [
    "df.loc[[True,False,True,False,True],[\"ID\",\"COMPANIES\",\"GROWTH\"]]"
   ]
  },
  {
   "cell_type": "code",
   "execution_count": 17,
   "metadata": {},
   "outputs": [
    {
     "data": {
      "text/html": [
       "<div>\n",
       "<style scoped>\n",
       "    .dataframe tbody tr th:only-of-type {\n",
       "        vertical-align: middle;\n",
       "    }\n",
       "\n",
       "    .dataframe tbody tr th {\n",
       "        vertical-align: top;\n",
       "    }\n",
       "\n",
       "    .dataframe thead th {\n",
       "        text-align: right;\n",
       "    }\n",
       "</style>\n",
       "<table border=\"1\" class=\"dataframe\">\n",
       "  <thead>\n",
       "    <tr style=\"text-align: right;\">\n",
       "      <th></th>\n",
       "      <th>ID</th>\n",
       "      <th>NAME</th>\n",
       "      <th>COMPANIES</th>\n",
       "      <th>INCEPTION</th>\n",
       "    </tr>\n",
       "  </thead>\n",
       "  <tbody>\n",
       "    <tr>\n",
       "      <th>0</th>\n",
       "      <td>1</td>\n",
       "      <td>leonardo</td>\n",
       "      <td>IT</td>\n",
       "      <td>2009</td>\n",
       "    </tr>\n",
       "  </tbody>\n",
       "</table>\n",
       "</div>"
      ],
      "text/plain": [
       "   ID      NAME COMPANIES  INCEPTION\n",
       "0   1  leonardo        IT       2009"
      ]
     },
     "execution_count": 17,
     "metadata": {},
     "output_type": "execute_result"
    }
   ],
   "source": [
    "df.loc[[True,False],\"ID\":\"INCEPTION\"]"
   ]
  },
  {
   "cell_type": "markdown",
   "metadata": {},
   "source": [
    "#### CONDITIONAL OPERATOR IN LOC:"
   ]
  },
  {
   "cell_type": "code",
   "execution_count": 18,
   "metadata": {},
   "outputs": [
    {
     "data": {
      "text/html": [
       "<div>\n",
       "<style scoped>\n",
       "    .dataframe tbody tr th:only-of-type {\n",
       "        vertical-align: middle;\n",
       "    }\n",
       "\n",
       "    .dataframe tbody tr th {\n",
       "        vertical-align: top;\n",
       "    }\n",
       "\n",
       "    .dataframe thead th {\n",
       "        text-align: right;\n",
       "    }\n",
       "</style>\n",
       "<table border=\"1\" class=\"dataframe\">\n",
       "  <thead>\n",
       "    <tr style=\"text-align: right;\">\n",
       "      <th></th>\n",
       "      <th>ID</th>\n",
       "      <th>NAME</th>\n",
       "      <th>COMPANIES</th>\n",
       "      <th>INCEPTION</th>\n",
       "      <th>REVENUE</th>\n",
       "      <th>EXPENSES</th>\n",
       "      <th>PROFIT</th>\n",
       "      <th>GROWTH</th>\n",
       "    </tr>\n",
       "  </thead>\n",
       "  <tbody>\n",
       "    <tr>\n",
       "      <th>6</th>\n",
       "      <td>7</td>\n",
       "      <td>larry</td>\n",
       "      <td>HEALTH</td>\n",
       "      <td>2015</td>\n",
       "      <td>$3455</td>\n",
       "      <td>4521 dollars</td>\n",
       "      <td>0</td>\n",
       "      <td>9</td>\n",
       "    </tr>\n",
       "    <tr>\n",
       "      <th>7</th>\n",
       "      <td>8</td>\n",
       "      <td>alexander</td>\n",
       "      <td>GOVT</td>\n",
       "      <td>2017</td>\n",
       "      <td>$1389,567</td>\n",
       "      <td>38929 dollars</td>\n",
       "      <td>43222</td>\n",
       "      <td>25</td>\n",
       "    </tr>\n",
       "    <tr>\n",
       "      <th>8</th>\n",
       "      <td>9</td>\n",
       "      <td>harry</td>\n",
       "      <td>IT</td>\n",
       "      <td>2017</td>\n",
       "      <td>$176,567</td>\n",
       "      <td>238282 dollars</td>\n",
       "      <td>7767</td>\n",
       "      <td>36</td>\n",
       "    </tr>\n",
       "    <tr>\n",
       "      <th>9</th>\n",
       "      <td>10</td>\n",
       "      <td>milano</td>\n",
       "      <td>FINANCE</td>\n",
       "      <td>2016</td>\n",
       "      <td>$9542007</td>\n",
       "      <td>38888 dollars</td>\n",
       "      <td>12867</td>\n",
       "      <td>22</td>\n",
       "    </tr>\n",
       "  </tbody>\n",
       "</table>\n",
       "</div>"
      ],
      "text/plain": [
       "   ID       NAME COMPANIES  INCEPTION    REVENUE        EXPENSES  PROFIT  \\\n",
       "6   7      larry    HEALTH       2015      $3455    4521 dollars       0   \n",
       "7   8  alexander      GOVT       2017  $1389,567   38929 dollars   43222   \n",
       "8   9      harry        IT       2017   $176,567  238282 dollars    7767   \n",
       "9  10     milano   FINANCE       2016   $9542007   38888 dollars   12867   \n",
       "\n",
       "   GROWTH  \n",
       "6       9  \n",
       "7      25  \n",
       "8      36  \n",
       "9      22  "
      ]
     },
     "execution_count": 18,
     "metadata": {},
     "output_type": "execute_result"
    }
   ],
   "source": [
    "df.loc[df['ID']>6]"
   ]
  },
  {
   "cell_type": "code",
   "execution_count": 19,
   "metadata": {},
   "outputs": [
    {
     "data": {
      "text/html": [
       "<div>\n",
       "<style scoped>\n",
       "    .dataframe tbody tr th:only-of-type {\n",
       "        vertical-align: middle;\n",
       "    }\n",
       "\n",
       "    .dataframe tbody tr th {\n",
       "        vertical-align: top;\n",
       "    }\n",
       "\n",
       "    .dataframe thead th {\n",
       "        text-align: right;\n",
       "    }\n",
       "</style>\n",
       "<table border=\"1\" class=\"dataframe\">\n",
       "  <thead>\n",
       "    <tr style=\"text-align: right;\">\n",
       "      <th></th>\n",
       "      <th>ID</th>\n",
       "      <th>NAME</th>\n",
       "      <th>COMPANIES</th>\n",
       "      <th>INCEPTION</th>\n",
       "      <th>REVENUE</th>\n",
       "      <th>EXPENSES</th>\n",
       "      <th>PROFIT</th>\n",
       "      <th>GROWTH</th>\n",
       "    </tr>\n",
       "  </thead>\n",
       "  <tbody>\n",
       "    <tr>\n",
       "      <th>8</th>\n",
       "      <td>9</td>\n",
       "      <td>harry</td>\n",
       "      <td>IT</td>\n",
       "      <td>2017</td>\n",
       "      <td>$176,567</td>\n",
       "      <td>238282 dollars</td>\n",
       "      <td>7767</td>\n",
       "      <td>36</td>\n",
       "    </tr>\n",
       "  </tbody>\n",
       "</table>\n",
       "</div>"
      ],
      "text/plain": [
       "   ID   NAME COMPANIES  INCEPTION   REVENUE        EXPENSES  PROFIT  GROWTH\n",
       "8   9  harry        IT       2017  $176,567  238282 dollars    7767      36"
      ]
     },
     "execution_count": 19,
     "metadata": {},
     "output_type": "execute_result"
    }
   ],
   "source": [
    "df.loc[df['GROWTH']>30]"
   ]
  },
  {
   "cell_type": "code",
   "execution_count": 20,
   "metadata": {},
   "outputs": [
    {
     "data": {
      "text/html": [
       "<div>\n",
       "<style scoped>\n",
       "    .dataframe tbody tr th:only-of-type {\n",
       "        vertical-align: middle;\n",
       "    }\n",
       "\n",
       "    .dataframe tbody tr th {\n",
       "        vertical-align: top;\n",
       "    }\n",
       "\n",
       "    .dataframe thead th {\n",
       "        text-align: right;\n",
       "    }\n",
       "</style>\n",
       "<table border=\"1\" class=\"dataframe\">\n",
       "  <thead>\n",
       "    <tr style=\"text-align: right;\">\n",
       "      <th></th>\n",
       "      <th>ID</th>\n",
       "      <th>GROWTH</th>\n",
       "      <th>NAME</th>\n",
       "      <th>COMPANIES</th>\n",
       "    </tr>\n",
       "  </thead>\n",
       "  <tbody>\n",
       "    <tr>\n",
       "      <th>0</th>\n",
       "      <td>1</td>\n",
       "      <td>30</td>\n",
       "      <td>leonardo</td>\n",
       "      <td>IT</td>\n",
       "    </tr>\n",
       "    <tr>\n",
       "      <th>1</th>\n",
       "      <td>2</td>\n",
       "      <td>25</td>\n",
       "      <td>orlando</td>\n",
       "      <td>HEALTH</td>\n",
       "    </tr>\n",
       "    <tr>\n",
       "      <th>2</th>\n",
       "      <td>3</td>\n",
       "      <td>25</td>\n",
       "      <td>finn</td>\n",
       "      <td>IT</td>\n",
       "    </tr>\n",
       "    <tr>\n",
       "      <th>5</th>\n",
       "      <td>6</td>\n",
       "      <td>23</td>\n",
       "      <td>mania</td>\n",
       "      <td>FINANCE</td>\n",
       "    </tr>\n",
       "    <tr>\n",
       "      <th>7</th>\n",
       "      <td>8</td>\n",
       "      <td>25</td>\n",
       "      <td>alexander</td>\n",
       "      <td>GOVT</td>\n",
       "    </tr>\n",
       "    <tr>\n",
       "      <th>8</th>\n",
       "      <td>9</td>\n",
       "      <td>36</td>\n",
       "      <td>harry</td>\n",
       "      <td>IT</td>\n",
       "    </tr>\n",
       "    <tr>\n",
       "      <th>9</th>\n",
       "      <td>10</td>\n",
       "      <td>22</td>\n",
       "      <td>milano</td>\n",
       "      <td>FINANCE</td>\n",
       "    </tr>\n",
       "  </tbody>\n",
       "</table>\n",
       "</div>"
      ],
      "text/plain": [
       "   ID  GROWTH       NAME COMPANIES\n",
       "0   1      30   leonardo        IT\n",
       "1   2      25    orlando    HEALTH\n",
       "2   3      25       finn        IT\n",
       "5   6      23      mania   FINANCE\n",
       "7   8      25  alexander      GOVT\n",
       "8   9      36      harry        IT\n",
       "9  10      22     milano   FINANCE"
      ]
     },
     "execution_count": 20,
     "metadata": {},
     "output_type": "execute_result"
    }
   ],
   "source": [
    "df.loc[df['GROWTH']>20,[\"ID\",\"GROWTH\",\"NAME\",\"COMPANIES\"]]"
   ]
  },
  {
   "cell_type": "markdown",
   "metadata": {},
   "source": [
    "## ILOC"
   ]
  },
  {
   "cell_type": "markdown",
   "metadata": {},
   "source": [
    "### integer location based indexing"
   ]
  },
  {
   "cell_type": "code",
   "execution_count": 21,
   "metadata": {},
   "outputs": [
    {
     "data": {
      "text/plain": [
       "ID                           1\n",
       "NAME                  leonardo\n",
       "COMPANIES                   IT\n",
       "INCEPTION                 2009\n",
       "REVENUE            $10,234,567\n",
       "EXPENSES     6,678,456 Dollars\n",
       "PROFIT                 5647547\n",
       "GROWTH                      30\n",
       "Name: 0, dtype: object"
      ]
     },
     "execution_count": 21,
     "metadata": {},
     "output_type": "execute_result"
    }
   ],
   "source": [
    "df.iloc[0]"
   ]
  },
  {
   "cell_type": "code",
   "execution_count": 22,
   "metadata": {},
   "outputs": [
    {
     "data": {
      "text/html": [
       "<div>\n",
       "<style scoped>\n",
       "    .dataframe tbody tr th:only-of-type {\n",
       "        vertical-align: middle;\n",
       "    }\n",
       "\n",
       "    .dataframe tbody tr th {\n",
       "        vertical-align: top;\n",
       "    }\n",
       "\n",
       "    .dataframe thead th {\n",
       "        text-align: right;\n",
       "    }\n",
       "</style>\n",
       "<table border=\"1\" class=\"dataframe\">\n",
       "  <thead>\n",
       "    <tr style=\"text-align: right;\">\n",
       "      <th></th>\n",
       "      <th>ID</th>\n",
       "      <th>NAME</th>\n",
       "      <th>COMPANIES</th>\n",
       "      <th>INCEPTION</th>\n",
       "      <th>REVENUE</th>\n",
       "      <th>EXPENSES</th>\n",
       "      <th>PROFIT</th>\n",
       "      <th>GROWTH</th>\n",
       "    </tr>\n",
       "  </thead>\n",
       "  <tbody>\n",
       "    <tr>\n",
       "      <th>0</th>\n",
       "      <td>1</td>\n",
       "      <td>leonardo</td>\n",
       "      <td>IT</td>\n",
       "      <td>2009</td>\n",
       "      <td>$10,234,567</td>\n",
       "      <td>6,678,456 Dollars</td>\n",
       "      <td>5647547</td>\n",
       "      <td>30</td>\n",
       "    </tr>\n",
       "  </tbody>\n",
       "</table>\n",
       "</div>"
      ],
      "text/plain": [
       "   ID      NAME COMPANIES  INCEPTION      REVENUE           EXPENSES   PROFIT  \\\n",
       "0   1  leonardo        IT       2009  $10,234,567  6,678,456 Dollars  5647547   \n",
       "\n",
       "   GROWTH  \n",
       "0      30  "
      ]
     },
     "execution_count": 22,
     "metadata": {},
     "output_type": "execute_result"
    }
   ],
   "source": [
    "df.iloc[[0]]"
   ]
  },
  {
   "cell_type": "code",
   "execution_count": 23,
   "metadata": {},
   "outputs": [
    {
     "data": {
      "text/plain": [
       "'leonardo'"
      ]
     },
     "execution_count": 23,
     "metadata": {},
     "output_type": "execute_result"
    }
   ],
   "source": [
    "df.iloc[0,1]"
   ]
  },
  {
   "cell_type": "code",
   "execution_count": 24,
   "metadata": {},
   "outputs": [
    {
     "data": {
      "text/html": [
       "<div>\n",
       "<style scoped>\n",
       "    .dataframe tbody tr th:only-of-type {\n",
       "        vertical-align: middle;\n",
       "    }\n",
       "\n",
       "    .dataframe tbody tr th {\n",
       "        vertical-align: top;\n",
       "    }\n",
       "\n",
       "    .dataframe thead th {\n",
       "        text-align: right;\n",
       "    }\n",
       "</style>\n",
       "<table border=\"1\" class=\"dataframe\">\n",
       "  <thead>\n",
       "    <tr style=\"text-align: right;\">\n",
       "      <th></th>\n",
       "      <th>NAME</th>\n",
       "      <th>COMPANIES</th>\n",
       "    </tr>\n",
       "  </thead>\n",
       "  <tbody>\n",
       "    <tr>\n",
       "      <th>0</th>\n",
       "      <td>leonardo</td>\n",
       "      <td>IT</td>\n",
       "    </tr>\n",
       "    <tr>\n",
       "      <th>1</th>\n",
       "      <td>orlando</td>\n",
       "      <td>HEALTH</td>\n",
       "    </tr>\n",
       "    <tr>\n",
       "      <th>2</th>\n",
       "      <td>finn</td>\n",
       "      <td>IT</td>\n",
       "    </tr>\n",
       "    <tr>\n",
       "      <th>3</th>\n",
       "      <td>philander</td>\n",
       "      <td>FINANCE</td>\n",
       "    </tr>\n",
       "  </tbody>\n",
       "</table>\n",
       "</div>"
      ],
      "text/plain": [
       "        NAME COMPANIES\n",
       "0   leonardo        IT\n",
       "1    orlando    HEALTH\n",
       "2       finn        IT\n",
       "3  philander   FINANCE"
      ]
     },
     "execution_count": 24,
     "metadata": {},
     "output_type": "execute_result"
    }
   ],
   "source": [
    "df.iloc[0:4,1:3]"
   ]
  },
  {
   "cell_type": "code",
   "execution_count": 25,
   "metadata": {},
   "outputs": [
    {
     "data": {
      "text/html": [
       "<div>\n",
       "<style scoped>\n",
       "    .dataframe tbody tr th:only-of-type {\n",
       "        vertical-align: middle;\n",
       "    }\n",
       "\n",
       "    .dataframe tbody tr th {\n",
       "        vertical-align: top;\n",
       "    }\n",
       "\n",
       "    .dataframe thead th {\n",
       "        text-align: right;\n",
       "    }\n",
       "</style>\n",
       "<table border=\"1\" class=\"dataframe\">\n",
       "  <thead>\n",
       "    <tr style=\"text-align: right;\">\n",
       "      <th></th>\n",
       "      <th>NAME</th>\n",
       "      <th>INCEPTION</th>\n",
       "    </tr>\n",
       "  </thead>\n",
       "  <tbody>\n",
       "    <tr>\n",
       "      <th>0</th>\n",
       "      <td>leonardo</td>\n",
       "      <td>2009</td>\n",
       "    </tr>\n",
       "    <tr>\n",
       "      <th>4</th>\n",
       "      <td>jacob</td>\n",
       "      <td>2008</td>\n",
       "    </tr>\n",
       "  </tbody>\n",
       "</table>\n",
       "</div>"
      ],
      "text/plain": [
       "       NAME  INCEPTION\n",
       "0  leonardo       2009\n",
       "4     jacob       2008"
      ]
     },
     "execution_count": 25,
     "metadata": {},
     "output_type": "execute_result"
    }
   ],
   "source": [
    "df.iloc[[0,4],[1,3]]"
   ]
  },
  {
   "cell_type": "code",
   "execution_count": 26,
   "metadata": {},
   "outputs": [
    {
     "data": {
      "text/html": [
       "<div>\n",
       "<style scoped>\n",
       "    .dataframe tbody tr th:only-of-type {\n",
       "        vertical-align: middle;\n",
       "    }\n",
       "\n",
       "    .dataframe tbody tr th {\n",
       "        vertical-align: top;\n",
       "    }\n",
       "\n",
       "    .dataframe thead th {\n",
       "        text-align: right;\n",
       "    }\n",
       "</style>\n",
       "<table border=\"1\" class=\"dataframe\">\n",
       "  <thead>\n",
       "    <tr style=\"text-align: right;\">\n",
       "      <th></th>\n",
       "      <th>ID</th>\n",
       "      <th>NAME</th>\n",
       "      <th>COMPANIES</th>\n",
       "      <th>INCEPTION</th>\n",
       "      <th>REVENUE</th>\n",
       "      <th>EXPENSES</th>\n",
       "      <th>PROFIT</th>\n",
       "      <th>GROWTH</th>\n",
       "    </tr>\n",
       "  </thead>\n",
       "  <tbody>\n",
       "    <tr>\n",
       "      <th>0</th>\n",
       "      <td>1</td>\n",
       "      <td>leonardo</td>\n",
       "      <td>IT</td>\n",
       "      <td>2009</td>\n",
       "      <td>$10,234,567</td>\n",
       "      <td>6,678,456 Dollars</td>\n",
       "      <td>5647547</td>\n",
       "      <td>30</td>\n",
       "    </tr>\n",
       "    <tr>\n",
       "      <th>2</th>\n",
       "      <td>3</td>\n",
       "      <td>finn</td>\n",
       "      <td>IT</td>\n",
       "      <td>2010</td>\n",
       "      <td>$12,238,200</td>\n",
       "      <td>6,673456 Dollars</td>\n",
       "      <td>5647547</td>\n",
       "      <td>25</td>\n",
       "    </tr>\n",
       "    <tr>\n",
       "      <th>3</th>\n",
       "      <td>4</td>\n",
       "      <td>philander</td>\n",
       "      <td>FINANCE</td>\n",
       "      <td>2009</td>\n",
       "      <td>$23,264,109</td>\n",
       "      <td>5,678,456 Dollars</td>\n",
       "      <td>93483</td>\n",
       "      <td>0</td>\n",
       "    </tr>\n",
       "  </tbody>\n",
       "</table>\n",
       "</div>"
      ],
      "text/plain": [
       "   ID       NAME COMPANIES  INCEPTION      REVENUE           EXPENSES  \\\n",
       "0   1   leonardo        IT       2009  $10,234,567  6,678,456 Dollars   \n",
       "2   3       finn        IT       2010  $12,238,200   6,673456 Dollars   \n",
       "3   4  philander   FINANCE       2009  $23,264,109  5,678,456 Dollars   \n",
       "\n",
       "    PROFIT  GROWTH  \n",
       "0  5647547      30  \n",
       "2  5647547      25  \n",
       "3    93483       0  "
      ]
     },
     "execution_count": 26,
     "metadata": {},
     "output_type": "execute_result"
    }
   ],
   "source": [
    "df.iloc[[True,False,True,True]]"
   ]
  },
  {
   "cell_type": "code",
   "execution_count": 27,
   "metadata": {},
   "outputs": [
    {
     "data": {
      "text/html": [
       "<div>\n",
       "<style scoped>\n",
       "    .dataframe tbody tr th:only-of-type {\n",
       "        vertical-align: middle;\n",
       "    }\n",
       "\n",
       "    .dataframe tbody tr th {\n",
       "        vertical-align: top;\n",
       "    }\n",
       "\n",
       "    .dataframe thead th {\n",
       "        text-align: right;\n",
       "    }\n",
       "</style>\n",
       "<table border=\"1\" class=\"dataframe\">\n",
       "  <thead>\n",
       "    <tr style=\"text-align: right;\">\n",
       "      <th></th>\n",
       "      <th>ID</th>\n",
       "      <th>NAME</th>\n",
       "      <th>COMPANIES</th>\n",
       "    </tr>\n",
       "  </thead>\n",
       "  <tbody>\n",
       "    <tr>\n",
       "      <th>0</th>\n",
       "      <td>1</td>\n",
       "      <td>leonardo</td>\n",
       "      <td>IT</td>\n",
       "    </tr>\n",
       "    <tr>\n",
       "      <th>2</th>\n",
       "      <td>3</td>\n",
       "      <td>finn</td>\n",
       "      <td>IT</td>\n",
       "    </tr>\n",
       "    <tr>\n",
       "      <th>3</th>\n",
       "      <td>4</td>\n",
       "      <td>philander</td>\n",
       "      <td>FINANCE</td>\n",
       "    </tr>\n",
       "  </tbody>\n",
       "</table>\n",
       "</div>"
      ],
      "text/plain": [
       "   ID       NAME COMPANIES\n",
       "0   1   leonardo        IT\n",
       "2   3       finn        IT\n",
       "3   4  philander   FINANCE"
      ]
     },
     "execution_count": 27,
     "metadata": {},
     "output_type": "execute_result"
    }
   ],
   "source": [
    "df.iloc[[True,False,True,True],0:3]"
   ]
  },
  {
   "cell_type": "code",
   "execution_count": 28,
   "metadata": {},
   "outputs": [
    {
     "data": {
      "text/html": [
       "<div>\n",
       "<style scoped>\n",
       "    .dataframe tbody tr th:only-of-type {\n",
       "        vertical-align: middle;\n",
       "    }\n",
       "\n",
       "    .dataframe tbody tr th {\n",
       "        vertical-align: top;\n",
       "    }\n",
       "\n",
       "    .dataframe thead th {\n",
       "        text-align: right;\n",
       "    }\n",
       "</style>\n",
       "<table border=\"1\" class=\"dataframe\">\n",
       "  <thead>\n",
       "    <tr style=\"text-align: right;\">\n",
       "      <th></th>\n",
       "      <th>ID</th>\n",
       "      <th>INCEPTION</th>\n",
       "    </tr>\n",
       "  </thead>\n",
       "  <tbody>\n",
       "    <tr>\n",
       "      <th>0</th>\n",
       "      <td>1</td>\n",
       "      <td>2009</td>\n",
       "    </tr>\n",
       "    <tr>\n",
       "      <th>2</th>\n",
       "      <td>3</td>\n",
       "      <td>2010</td>\n",
       "    </tr>\n",
       "    <tr>\n",
       "      <th>3</th>\n",
       "      <td>4</td>\n",
       "      <td>2009</td>\n",
       "    </tr>\n",
       "  </tbody>\n",
       "</table>\n",
       "</div>"
      ],
      "text/plain": [
       "   ID  INCEPTION\n",
       "0   1       2009\n",
       "2   3       2010\n",
       "3   4       2009"
      ]
     },
     "execution_count": 28,
     "metadata": {},
     "output_type": "execute_result"
    }
   ],
   "source": [
    "df.iloc[[True,False,True,True],[0,3]]"
   ]
  },
  {
   "cell_type": "code",
   "execution_count": 29,
   "metadata": {},
   "outputs": [
    {
     "data": {
      "text/html": [
       "<div>\n",
       "<style scoped>\n",
       "    .dataframe tbody tr th:only-of-type {\n",
       "        vertical-align: middle;\n",
       "    }\n",
       "\n",
       "    .dataframe tbody tr th {\n",
       "        vertical-align: top;\n",
       "    }\n",
       "\n",
       "    .dataframe thead th {\n",
       "        text-align: right;\n",
       "    }\n",
       "</style>\n",
       "<table border=\"1\" class=\"dataframe\">\n",
       "  <thead>\n",
       "    <tr style=\"text-align: right;\">\n",
       "      <th></th>\n",
       "      <th>ID</th>\n",
       "      <th>NAME</th>\n",
       "      <th>COMPANIES</th>\n",
       "      <th>INCEPTION</th>\n",
       "    </tr>\n",
       "  </thead>\n",
       "  <tbody>\n",
       "    <tr>\n",
       "      <th>0</th>\n",
       "      <td>1</td>\n",
       "      <td>leonardo</td>\n",
       "      <td>IT</td>\n",
       "      <td>2009</td>\n",
       "    </tr>\n",
       "    <tr>\n",
       "      <th>2</th>\n",
       "      <td>3</td>\n",
       "      <td>finn</td>\n",
       "      <td>IT</td>\n",
       "      <td>2010</td>\n",
       "    </tr>\n",
       "    <tr>\n",
       "      <th>3</th>\n",
       "      <td>4</td>\n",
       "      <td>philander</td>\n",
       "      <td>FINANCE</td>\n",
       "      <td>2009</td>\n",
       "    </tr>\n",
       "  </tbody>\n",
       "</table>\n",
       "</div>"
      ],
      "text/plain": [
       "   ID       NAME COMPANIES  INCEPTION\n",
       "0   1   leonardo        IT       2009\n",
       "2   3       finn        IT       2010\n",
       "3   4  philander   FINANCE       2009"
      ]
     },
     "execution_count": 29,
     "metadata": {},
     "output_type": "execute_result"
    }
   ],
   "source": [
    "df.iloc[[True,False,True,True],[0,1,2,3]]"
   ]
  },
  {
   "cell_type": "code",
   "execution_count": null,
   "metadata": {},
   "outputs": [],
   "source": []
  }
 ],
 "metadata": {
  "kernelspec": {
   "display_name": "Python 3",
   "language": "python",
   "name": "python3"
  },
  "language_info": {
   "codemirror_mode": {
    "name": "ipython",
    "version": 3
   },
   "file_extension": ".py",
   "mimetype": "text/x-python",
   "name": "python",
   "nbconvert_exporter": "python",
   "pygments_lexer": "ipython3",
   "version": "3.7.3"
  }
 },
 "nbformat": 4,
 "nbformat_minor": 2
}
